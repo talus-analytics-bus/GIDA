{
 "cells": [
  {
   "cell_type": "markdown",
   "metadata": {},
   "source": [
    "### Load data"
   ]
  },
  {
   "cell_type": "code",
   "execution_count": 1,
   "metadata": {},
   "outputs": [
    {
     "name": "stdout",
     "output_type": "stream",
     "text": [
      "{u'committed_by_year': {u'2015': 39733333,\n",
      "                        u'2016': 39733333,\n",
      "                        u'2017': 39733333},\n",
      " u'core_capacities': [],\n",
      " u'donor_code': u'eu',\n",
      " u'donor_name': u'European Union',\n",
      " u'donor_sector': u'Multilateral',\n",
      " u'project_disease': [{u'c': u'Ebola', u'p': u'Ebola'}],\n",
      " u'project_id': u'ebolarecovery.2',\n",
      " u'project_name': u'Post-Ebola Socioeconomic Recovery',\n",
      " u'recipient_country': u'Guinea',\n",
      " u'recipient_name': u'Guinea',\n",
      " u'recipient_sector': u'Government',\n",
      " u'source': {u'added_by': u'Talus',\n",
      "             u'id': u'erti',\n",
      "             u'mmddyyyy_added': u'033018',\n",
      "             u'name': u'Ebola Recovery Tracking Initiative'},\n",
      " u'spent_by_year': {u'2015': 15033333, u'2016': 15033333, u'2017': 15033333},\n",
      " u'total_committed': 119200000,\n",
      " u'total_currency': u'USD',\n",
      " u'total_spent': 45100000,\n",
      " u'transactions': [{u'amount': 119200000,\n",
      "                    u'currency': u'USD',\n",
      "                    u'cy': u'2017',\n",
      "                    u'type': u'commitment'},\n",
      "                   {u'amount': 45100000,\n",
      "                    u'currency': u'USD',\n",
      "                    u'cy': u'2017',\n",
      "                    u'type': u'disbursement'}]}\n"
     ]
    }
   ],
   "source": [
    "import json\n",
    "from pprint import pprint\n",
    "import numpy as np\n",
    "import pandas as pd\n",
    "from tabulate import tabulate\n",
    "\n",
    "with open('funding_data_inputs/funding_data.json') as data_file:    \n",
    "    funding_data_init = json.load(data_file)\n",
    "    \n",
    "with open('funding_data_inputs/ebolarecoverytracker.json') as data_file:    \n",
    "    ebolarecoverytracker_data = json.load(data_file)\n",
    "    \n",
    "with open('funding_data_inputs/nti_data.json') as data_file:    \n",
    "    nti_data = json.load(data_file)\n",
    "    \n",
    "with open('funding_data_inputs/whocontingencyfund.json') as data_file:    \n",
    "    who = json.load(data_file)\n",
    "    \n",
    "    \n",
    "#pprint(funding_data[1])\n",
    "pprint(ebolarecoverytracker_data[1])"
   ]
  },
  {
   "cell_type": "markdown",
   "metadata": {},
   "source": [
    "### Append multiple json data inputs together"
   ]
  },
  {
   "cell_type": "code",
   "execution_count": 2,
   "metadata": {},
   "outputs": [
    {
     "name": "stdout",
     "output_type": "stream",
     "text": [
      "{u'committed_by_year': {u'2014': 414031, u'2015': 0, u'2016': 0, u'2017': 0},\n",
      " u'core_capacities': [u'P.1'],\n",
      " u'donor_code': u'GB',\n",
      " u'donor_name': u'United Kingdom',\n",
      " u'donor_sector': u'Government',\n",
      " u'project_id': u'proj.1',\n",
      " u'project_name': u'Budget 14/15 - Strategic Support for Montserrat',\n",
      " u'recipient_country': u'MS',\n",
      " u'recipient_name': u'Montserrat',\n",
      " u'recipient_sector': u'Country',\n",
      " u'source': {u'added_by': u'Talus',\n",
      "             u'id': u'GB-1-203897-104',\n",
      "             u'mmddyyyy_added': u'103017',\n",
      "             u'name': u'IATI via D-Portal'},\n",
      " u'spent_by_year': {u'2014': 0, u'2015': 898127, u'2016': 0, u'2017': 0},\n",
      " u'total_committed': 414031,\n",
      " u'total_currency': u'USD',\n",
      " u'total_spent': 898127,\n",
      " u'transactions': [{u'amount': 414031,\n",
      "                    u'currency': u'USD',\n",
      "                    u'cy': u'2014',\n",
      "                    u'type': u'commitment'},\n",
      "                   {u'amount': 898127,\n",
      "                    u'currency': u'USD',\n",
      "                    u'cy': u'2015',\n",
      "                    u'type': u'disbursement'}]}\n"
     ]
    }
   ],
   "source": [
    "funding_data = funding_data_init + ebolarecoverytracker_data + nti_data + who\n",
    "pprint(funding_data[1])"
   ]
  },
  {
   "cell_type": "markdown",
   "metadata": {},
   "source": [
    "### Update data"
   ]
  },
  {
   "cell_type": "markdown",
   "metadata": {},
   "source": [
    "Any data tagged by more than one core capacity, or with a GHSA-specific source, needs to be tagged as GHSA funding"
   ]
  },
  {
   "cell_type": "code",
   "execution_count": 4,
   "metadata": {
    "collapsed": true
   },
   "outputs": [],
   "source": [
    "selected_ccs = ['P.1','P.2', 'P.3', 'P.4', 'P.5', 'P.6', 'P.7',\n",
    "               'D.1', 'D.2', 'D.3', 'D.4',\n",
    "               'R.1', 'R.2', 'R.3', 'R.4', 'R.5',\n",
    "                'PoE', 'CE', 'RE',\n",
    "               'General IHR Implementation'\n",
    "               ]"
   ]
  },
  {
   "cell_type": "code",
   "execution_count": 5,
   "metadata": {
    "collapsed": true
   },
   "outputs": [],
   "source": [
    "selected_sources = ['GP BTWC Article X Assistance Compendium 2017', \n",
    "                    'GHSA Progress and Impact from US Government Investments',\n",
    "                   'NTI Commitment Tracker',\n",
    "                   'WHO Contingency Fund for Emergencies']"
   ]
  },
  {
   "cell_type": "code",
   "execution_count": null,
   "metadata": {
    "collapsed": true
   },
   "outputs": [],
   "source": [
    "for i in range(len(funding_data)):\n",
    "    any_ccs = any(elem in funding_data[i]['core_capacities'] for elem in selected_ccs)\n",
    "    source = any(elem in funding_data[i]['source']['name'] for elem in selected_sources)\n",
    "    funding_data[i]['ghsa_funding'] = any_ccs or source"
   ]
  },
  {
   "cell_type": "markdown",
   "metadata": {},
   "source": [
    "### Export data"
   ]
  },
  {
   "cell_type": "code",
   "execution_count": null,
   "metadata": {
    "collapsed": true
   },
   "outputs": [],
   "source": [
    "import json\n",
    "with open('updated_funding_data.json', 'w') as outfile:\n",
    "    json.dump(funding_data, outfile)"
   ]
  },
  {
   "cell_type": "markdown",
   "metadata": {},
   "source": [
    "### Read data back in to double check"
   ]
  },
  {
   "cell_type": "code",
   "execution_count": null,
   "metadata": {},
   "outputs": [],
   "source": [
    "with open(\"updated_funding_data.json\") as data_file:    \n",
    "    new_data = json.load(data_file)\n",
    "    \n",
    "pprint(new_data[1])"
   ]
  },
  {
   "cell_type": "code",
   "execution_count": null,
   "metadata": {},
   "outputs": [],
   "source": [
    "a=[]\n",
    "for i in range(len(new_data)):\n",
    "   a.append(new_data[i]['source']['name'])\n",
    "\n",
    "print(np.unique(a))"
   ]
  },
  {
   "cell_type": "markdown",
   "metadata": {},
   "source": [
    "### Archived Exploratory Code"
   ]
  },
  {
   "cell_type": "code",
   "execution_count": null,
   "metadata": {
    "collapsed": true
   },
   "outputs": [],
   "source": []
  },
  {
   "cell_type": "code",
   "execution_count": null,
   "metadata": {
    "collapsed": true
   },
   "outputs": [],
   "source": [
    "a=[]\n",
    "for i in range(len(funding_data)):\n",
    "   a.append(funding_data[i]['core_capacities'])\n",
    "\n",
    "#print(np.unique(a))"
   ]
  },
  {
   "cell_type": "code",
   "execution_count": null,
   "metadata": {
    "collapsed": true
   },
   "outputs": [],
   "source": [
    "a=[]\n",
    "for i in range(len(funding_data)):\n",
    "   a.append(funding_data[i]['ghsa_funding'])\n",
    "#a"
   ]
  },
  {
   "cell_type": "code",
   "execution_count": 3,
   "metadata": {},
   "outputs": [
    {
     "name": "stdout",
     "output_type": "stream",
     "text": [
      "[u'Ebola Recovery Tracking Initiative'\n",
      " u'GHSA Progress and Impact from US Government Investments'\n",
      " u'GP BTWC Article X Assistance Compendium 2017' u'IATI via D-Portal'\n",
      " u'NTI Commitment Tracker' u'WHO Contingency Fund for Emergencies'\n",
      " u'WHO Health Emergencies Program']\n"
     ]
    }
   ],
   "source": [
    "a=[]\n",
    "for i in range(len(funding_data)):\n",
    "   a.append(funding_data[i]['source']['name'])\n",
    "\n",
    "print(np.unique(a))"
   ]
  },
  {
   "cell_type": "code",
   "execution_count": null,
   "metadata": {
    "collapsed": true
   },
   "outputs": [],
   "source": []
  }
 ],
 "metadata": {
  "kernelspec": {
   "display_name": "Python 2",
   "language": "python",
   "name": "python2"
  },
  "language_info": {
   "codemirror_mode": {
    "name": "ipython",
    "version": 2
   },
   "file_extension": ".py",
   "mimetype": "text/x-python",
   "name": "python",
   "nbconvert_exporter": "python",
   "pygments_lexer": "ipython2",
   "version": "2.7.13"
  }
 },
 "nbformat": 4,
 "nbformat_minor": 2
}
